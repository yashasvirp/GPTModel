{
 "cells": [
  {
   "cell_type": "markdown",
   "id": "fae3bed4-cf3c-46a9-ad8a-54fc6cce1c38",
   "metadata": {},
   "source": [
    "# Importing modules\n",
    "\n",
    "```torch``` - For building the network  \n",
    "```pickle``` - storing model state  \n",
    "```mmap``` - Interacting with data from training and validation files  \n",
    "```random``` - selecting random seek points from data files to collect and train data  \n",
    "```argparse``` - Optional. Can be used to feed hyper-parameters from  CLI to train/tune the model"
   ]
  },
  {
   "cell_type": "code",
   "execution_count": 1,
   "id": "f8906f4d",
   "metadata": {},
   "outputs": [
    {
     "name": "stdout",
     "output_type": "stream",
     "text": [
      "cuda\n"
     ]
    }
   ],
   "source": [
    "import torch\n",
    "import torch.nn as nn\n",
    "from torch.nn import functional as F\n",
    "import pickle\n",
    "import mmap\n",
    "import random\n",
    "# import argparse\n",
    "\n",
    "# parser = argparse.ArgumentParser(description='Something')\n",
    "# parser.add_argument('--batch-size', type=str, required=True, help='Provide batch size')\n",
    "\n",
    "\n",
    "device = 'cuda' if torch.cuda.is_available() else 'cpu'\n",
    "print(device)"
   ]
  },
  {
   "cell_type": "markdown",
   "id": "ccb2e664",
   "metadata": {},
   "source": [
    "### Hyper-parameters\n",
    "```blk_size```  - implying how many characters will be taken into consideration for context to predict the next character. Once the character is predicted, then the block moves by 1 char, and the next 8 charcters (including the last predicted character) is taken into context and so on.  \n",
    "```batch_size``` - number of blocks that will be stacked together.  \n",
    "```chkpt``` - Value to check progress at particular number of iterations.  \n",
    "```max_iter``` - number of times the training loop will run.  \n",
    "```lr``` - learning rate  \n",
    "```n_embed``` - length of embedded vector  \n",
    "```n_EDlayers``` - number of encoder and decoders in the Transformer architecture  \n",
    "```n_head``` - number of heads for multihead attention  \n",
    "```dropout``` - percentage of nodes in NN dropping out, for regularization"
   ]
  },
  {
   "cell_type": "code",
   "execution_count": 2,
   "id": "3e99ade8-179a-47d8-979c-047c319f6105",
   "metadata": {},
   "outputs": [],
   "source": [
    "blk_size = 32\n",
    "batch_size = 32 # 32 blocks stacked together\n",
    "chkpt = 100 # Checkpoint for every 100 iterations\n",
    "max_iter = 1000   # maximum number of iterations\n",
    "lr = 3e-4              # Learning rate\n",
    "n_embed = 384     # dimension of embedding vector\n",
    "n_EDlayers = 4 # number of encoders and decoders in the a\n",
    "n_head = 4\n",
    "dropout = 0.2"
   ]
  },
  {
   "cell_type": "markdown",
   "id": "ef032020-1f5a-4d7a-9b54-c48f0f30f511",
   "metadata": {},
   "source": [
    "# Data Handling\n",
    "\n",
    "We perform character-level tokenization of data. Hence, the vocabulary consists of single characters. This can be extended to word-level tokenization and training.  \n",
    "We then implement encoding (```enc```) and decoding (```dec```) functions for embedding these characters.\n",
    "\n"
   ]
  },
  {
   "cell_type": "code",
   "execution_count": 3,
   "id": "a4855314",
   "metadata": {},
   "outputs": [],
   "source": [
    "char = \"\"\n",
    "with open('vocab.txt', 'r', encoding='utf-8') as f:\n",
    "    txt = f.read()\n",
    "    chars = sorted(list(set(txt)))\n",
    " \n",
    "vocab_size = len(chars)"
   ]
  },
  {
   "cell_type": "code",
   "execution_count": 4,
   "id": "9fca534d",
   "metadata": {},
   "outputs": [],
   "source": [
    "# character-level tokenization\n",
    "\n",
    "str_to_int = {ch : i for i,ch in enumerate(chars)}\n",
    "int_to_str = {i : ch for i,ch in enumerate(chars)}\n",
    "enc = lambda x : [str_to_int[c] for c in x]  # encoding char to int\n",
    "dec = lambda x : ''.join([int_to_str[i] for i in x])  # decoding int to char"
   ]
  },
  {
   "cell_type": "markdown",
   "id": "fa0df832-333f-469f-9e6f-5f01f4db3482",
   "metadata": {},
   "source": [
    "Instead of sequential access of data. We select random chunks of data of size ```blk_size```, and stack them in number of\n",
    "```batch_size``` blocks.\n",
    "\n",
    "```x``` and ```y``` contain input data and targets respectively. If data is \"hello world\", and block size is 3, then if x contains 'ell', y will contain 'llo'."
   ]
  },
  {
   "cell_type": "code",
   "execution_count": 5,
   "id": "013b1f02-207e-4a55-a3de-1407a22b9877",
   "metadata": {
    "scrolled": true
   },
   "outputs": [],
   "source": [
    "import mmap\n",
    "import random\n",
    "from torch.utils.data import DataLoader, TensorDataset\n",
    "\n",
    "\n",
    "def get_data(split):\n",
    "    fname = 'output_train.txt' if split == 'train' else 'output_val.txt'\n",
    "    with open(fname, 'r') as f:\n",
    "        with mmap.mmap(f.fileno(), 0, access=mmap.ACCESS_READ) as mm:\n",
    "            fsize = len(mm)     # determine file size and random pos to start reading\n",
    "            start = random.randint(0, fsize - blk_size*batch_size) # from start to just before the end so that lookahead is possible if required\n",
    "            \n",
    "            #seek to that pos and start reading the block of text\n",
    "            mm.seek(start)\n",
    "            blk = mm.read(blk_size*batch_size-1)\n",
    "            \n",
    "            # decode block to a string and ignoring any invalid byte sequences\n",
    "            dec_blk = blk.decode('utf-8', errors='ignore').replace('\\r','')\n",
    "\n",
    "            # Train and test split\n",
    "            data = torch.tensor(enc(dec_blk), dtype=torch.long)\n",
    "    \n",
    "    return data\n",
    "\n",
    "\n",
    "def get_batch(part):\n",
    "    d = get_data(part)\n",
    "    idx = torch.randint(len(d) - blk_size, (batch_size,))\n",
    "    x = torch.stack([d[i:i+blk_size] for i in idx])\n",
    "    y = torch.stack([d[i+1:i+1+blk_size] for i in idx])\n",
    "    return x.to(device), y.to(device)\n"
   ]
  },
  {
   "cell_type": "markdown",
   "id": "51df7f92-735a-4e5c-b152-e28ee97eecb2",
   "metadata": {},
   "source": [
    "# Initializing Neural Net\n",
    "\n",
    "We are constructing a GPT of ```n_EDlayers``` number of layers. Each layer will contain a multihead attention component of ```n_head``` heads."
   ]
  },
  {
   "cell_type": "code",
   "execution_count": 6,
   "id": "a5956dcc-dc13-45ee-ba75-34b4986a4e90",
   "metadata": {},
   "outputs": [],
   "source": [
    "class Head(nn.Module):\n",
    "    ''' self attention head'''\n",
    "\n",
    "    def __init__(self, head_size):\n",
    "        super().__init__()\n",
    "        self.key = nn.Linear(n_embed, head_size, bias=False)\n",
    "        self.query = nn.Linear(n_embed, head_size, bias=False)\n",
    "        self.value = nn.Linear(n_embed, head_size, bias=False)\n",
    "        self.register_buffer('tril', torch.tril(torch.ones(blk_size, blk_size))) # for masking to avoid lookahead\n",
    "        self.dropout = nn.Dropout(dropout)\n",
    "\n",
    "    def forward(self, X):\n",
    "        B, T, C = X.shape\n",
    "        k = self.key(X) # (B, T, head_size)\n",
    "        q = self.query(X) # # (B, T, head_size)\n",
    "        # computing attention score\n",
    "        wght = q @ k.transpose(-2,-1) * k.shape[-1]**0.5 # Flipping last two dim, and scaling by 1/sq.root\n",
    "        wght = wght.masked_fill(self.tril[:T, :T] == 0, float('-inf')) \n",
    "        wght = F.softmax(wght, dim=-1)\n",
    "        wght = self.dropout(wght)\n",
    "\n",
    "        # perform weihted augmentation on values\n",
    "        v = self.value(X)\n",
    "        return wght @ v"
   ]
  },
  {
   "cell_type": "markdown",
   "id": "28ecb8b9-7672-4826-b243-f0594bd107be",
   "metadata": {},
   "source": [
    "Each head takes in ```head_size * n_heads``` number of inputs (which is essentially equal to __n_embed__, but we keep it that way\n",
    "to avoid any computational errors), and produces ```n_embed``` number of outputs.\n",
    "\n",
    "```nn.ModuleList``` is used instead of ```nn.Sequential``` so that output of each head is not dependent on the output of previous head.\n",
    "Output of each head is then concatenated."
   ]
  },
  {
   "cell_type": "code",
   "execution_count": 22,
   "id": "476286af-76d5-44e0-aa0d-636c41b6566d",
   "metadata": {},
   "outputs": [],
   "source": [
    "class MultiHeadAttention(nn.Module):\n",
    "\n",
    "    def __init__(self, n_heads, head_size):\n",
    "        super().__init__()\n",
    "        self.heads = nn.ModuleList([Head(head_size) for _ in range(n_heads)])\n",
    "        self.proj = nn.Linear(head_size * n_heads, n_embed) # just to add more learnable parameters\n",
    "        self.dropout = nn.Dropout(dropout)\n",
    "\n",
    "    def forward(self, X):\n",
    "        out = torch.cat([h(X) for h in self.heads], dim=-1) # dim -> (B, T, 4*features)\n",
    "        out = self.dropout(self.proj(out))\n",
    "\n",
    "        return out"
   ]
  },
  {
   "cell_type": "code",
   "execution_count": 23,
   "id": "fcfb1b63-ca8f-492b-a8c2-311b3ffc76a5",
   "metadata": {},
   "outputs": [],
   "source": [
    "# Regular MLP\n",
    "\n",
    "class FeedForward(nn.Module):\n",
    "\n",
    "    def __init__(self, n_embed):\n",
    "        super().__init__()\n",
    "        self.network = nn.Sequential(\n",
    "            nn.Linear(n_embed, 4*n_embed),\n",
    "            nn.ReLU(),\n",
    "            nn.Linear(4*n_embed, n_embed),\n",
    "            nn.Dropout(dropout),\n",
    "        )\n",
    "\n",
    "    def forward(self, X):\n",
    "        return self.network(X)"
   ]
  },
  {
   "cell_type": "markdown",
   "id": "d5ab5c67-76f2-46f0-9f5d-94ce7ad931eb",
   "metadata": {},
   "source": [
    "This block represents the encoder and decoder part. Normalization is done after adding the outputs of multi-head components"
   ]
  },
  {
   "cell_type": "code",
   "execution_count": null,
   "id": "85d872e3-92b5-42fc-a33d-15283fc8d325",
   "metadata": {},
   "outputs": [],
   "source": [
    "class Block(nn.Module):\n",
    "\n",
    "    def __init__(self, n_embed, n_head):\n",
    "        super().__init__()\n",
    "        head_size = n_embed // n_head   # how many features does each head capture\n",
    "        self.ma = MultiHeadAttention(n_head, head_size)\n",
    "        self.ffwd = FeedForward(n_embed)\n",
    "        self.ln1 = nn.LayerNorm(n_embed)\n",
    "        self.ln2 = nn.LayerNorm(n_embed)\n",
    "\n",
    "    def forward(self, x):\n",
    "        y = self.ma(x)\n",
    "        x = self.ln1(x + y)   # Adding and normalizing\n",
    "        y = self.ffwd(x)\n",
    "        x = self.ln2(x + y)\n",
    "        return x    "
   ]
  },
  {
   "cell_type": "markdown",
   "id": "e0dd7a73-c28a-4a5f-966b-9d63094fbc85",
   "metadata": {},
   "source": [
    "Every character is vocabulary is encoded/embdedded using nn.Embedding layer which takes in number of characters,\n",
    "and outputs vectors of size ```n_embed``` for each character in vocabulary.  \n",
    "For every character that is then considered in a block, we encode them positionally to capture their positional significance."
   ]
  },
  {
   "cell_type": "code",
   "execution_count": 25,
   "id": "354a03b1-7950-4b7b-bbc7-d4d1d13f2eaa",
   "metadata": {},
   "outputs": [],
   "source": [
    "class GPTLangModel(nn.Module):\n",
    "    def __init__(self, vocab_size):\n",
    "        super().__init__()\n",
    "        self.token_embed = nn.Embedding(vocab_size, n_embed)   # token embedding lookup table\n",
    "        self.pos_embed_table = nn.Embedding(blk_size, n_embed)   # positional embedding table\n",
    "        self.layers = nn.Sequential(*[Block(n_embed, n_head=n_head) for _ in range(n_EDlayers)])\n",
    "        self.l_fin = nn.LayerNorm(n_embed)       # Final layer norm\n",
    "        self.lm_head = nn.Linear(n_embed, vocab_size)    # Final linear layer after encoders-decoders\n",
    "        self.apply(self._init_weights)\n",
    "\n",
    "    # Randomly initializing weights using normal distribution\n",
    "    def _init_weights(self, module):\n",
    "        if isinstance(module, nn.Linear):\n",
    "            torch.nn.init.normal_(module.weight, mean=0.0, std=0.2)\n",
    "            if module.bias is not None:\n",
    "                torch.nn.init.zeros_(module.bias)\n",
    "        elif isinstance(module, nn.Embedding):\n",
    "            torch.nn.init.normal_(module.weight, mean=0.0, std=0.2)\n",
    "    \n",
    "    def forward(self, idx, targets=None):\n",
    "        batch, time = idx.shape\n",
    "        \n",
    "        # idx and targets are tensors of shape (batch*time)\n",
    "        tok_emb = self.token_embed(idx)\n",
    "        pos_emb = self.pos_embed_table(torch.arange(time, device=device))\n",
    "        x = tok_emb + pos_emb\n",
    "        x = self.layers(x)\n",
    "        x = self.l_fin(x) \n",
    "        logits = self.lm_head(x)\n",
    "        \n",
    "        \n",
    "        if targets is None:\n",
    "            loss = None\n",
    "        else:\n",
    "            batch, time, channels = logits.shape       # time is a sequential dimension, channels = vocab size (or) number of classes \n",
    "            logits = logits.view(batch*time, channels)   # reshaping logits(B,T,C) dimensions to (B*T, C)\n",
    "            targets = targets.view(batch*time)    \n",
    "            loss = F.cross_entropy(logits, targets)\n",
    "\n",
    "        return logits, loss\n",
    "\n",
    "    \n",
    "    # This function generates the characters that the model produces after training\n",
    "    def generate(self, idx, maxNewTokens):\n",
    "        for _ in range(maxNewTokens):\n",
    "            idx_cond = idx[:, -blk_size:]\n",
    "            logits, loss = self.forward(idx_cond)\n",
    "            logits = logits[:, -1, :]    # focusing on last timestep as it is a bigram model (single prev char)\n",
    "            probs = F.softmax(logits, dim = -1)   # get the probabilities of last dimension\n",
    "            idxNxt = torch.multinomial(probs, num_samples=1) # sample from those probabilities\n",
    "            idx = torch.cat((idx, idxNxt), dim=1)\n",
    "        \n",
    "        return idx"
   ]
  },
  {
   "cell_type": "markdown",
   "id": "3e2c5f2f-e644-47de-988b-cb6f80514086",
   "metadata": {},
   "source": [
    "### Loading Pre-trained model\n",
    "\n",
    "__WARNING__: This should be done only when a pre-trained and saved model is to be loaded and enhanced/fine-tuned by changing hyperparameters.  \n",
    "Uncomment this code if training for first time"
   ]
  },
  {
   "cell_type": "code",
   "execution_count": null,
   "id": "c54086f2-83fe-4c57-9fad-c2fa6d0cc810",
   "metadata": {},
   "outputs": [],
   "source": [
    "model = GPTLangModel(vocab_size)\n",
    "\n",
    "with open('model_01.pkl','rb') as f:\n",
    "    model = pickle.load(f)\n",
    "print(' model loaded successfully')\n",
    "m = model.to(device)"
   ]
  },
  {
   "cell_type": "markdown",
   "id": "c40d7c91-8d4e-4a03-9d80-0308a12c151c",
   "metadata": {},
   "source": [
    "## Loss function and Training"
   ]
  },
  {
   "cell_type": "code",
   "execution_count": 12,
   "id": "80384ad8-aef7-4368-b3f1-0d6163c35151",
   "metadata": {},
   "outputs": [],
   "source": [
    "# loss function\n",
    "@torch.no_grad()\n",
    "\n",
    "def calc_loss():\n",
    "    out = {}\n",
    "    \n",
    "    model.eval()\n",
    "    \n",
    "    for i in ['train', 'val']:\n",
    "        losses = torch.zeros(chkpt)\n",
    "        \n",
    "        for j in range(chkpt):\n",
    "            X, y = get_batch(i)\n",
    "            logits, loss = model(X, y)\n",
    "            losses[j] = loss.item()\n",
    "        \n",
    "        out[i] = losses.mean()    \n",
    "    \n",
    "    model.train()\n",
    "    \n",
    "    return out"
   ]
  },
  {
   "cell_type": "code",
   "execution_count": 13,
   "id": "6ba97472-7efb-4795-b978-0e50b76e37aa",
   "metadata": {},
   "outputs": [],
   "source": [
    "# torch.cuda.set_device(0)  # Set to the index of your GPU\n",
    "# import os\n",
    "# # os.environ[\"CUDA_LAUNCH_BLOCKING\"] = \"1\"\n",
    "# os.environ[\"TORCH_USE_CUDA_DSA\"] = \"1\""
   ]
  },
  {
   "cell_type": "code",
   "execution_count": 15,
   "id": "52375061-8c1c-4f65-89ca-3e0d3188ced2",
   "metadata": {},
   "outputs": [
    {
     "name": "stdout",
     "output_type": "stream",
     "text": [
      "Epoch: 0 - Train loss: 2.9732, Validation loss: 2.9260\n",
      "Epoch: 100 - Train loss: 3.0223, Validation loss: 2.9342\n",
      "Epoch: 200 - Train loss: 3.0254, Validation loss: 2.9231\n",
      "Epoch: 300 - Train loss: 2.8425, Validation loss: 3.0704\n",
      "Epoch: 400 - Train loss: 3.0328, Validation loss: 2.9500\n",
      "Epoch: 500 - Train loss: 2.9832, Validation loss: 2.9143\n",
      "Epoch: 600 - Train loss: 3.0034, Validation loss: 2.9441\n",
      "Epoch: 700 - Train loss: 2.9822, Validation loss: 3.0299\n",
      "Epoch: 800 - Train loss: 3.0332, Validation loss: 2.9599\n",
      "Epoch: 900 - Train loss: 2.8665, Validation loss: 2.9640\n",
      "3.200286626815796\n"
     ]
    }
   ],
   "source": [
    "# Training loop\n",
    "\n",
    "optim = torch.optim.AdamW(model.parameters(), lr=lr) # defining optimizer\n",
    "\n",
    "for i in range(max_iter):\n",
    "    if i % chkpt == 0:\n",
    "        losses = calc_loss()\n",
    "        print(f\"Epoch: {i} - Train loss: {losses['train']:.4f}, Validation loss: {losses['val']:.4f}\")\n",
    "    xb, yb = get_batch('train')\n",
    "\n",
    "    logits, loss = model.forward(xb, yb)\n",
    "    optim.zero_grad(set_to_none=True)\n",
    "    loss.backward()\n",
    "    optim.step()\n",
    "\n",
    "print(loss.item())"
   ]
  },
  {
   "cell_type": "markdown",
   "id": "96929936-0db4-4b4f-8ecb-0ee182a18770",
   "metadata": {},
   "source": [
    "### Saving a Model\n",
    "\n",
    "Uncomment the code below to save the model with any preferred name."
   ]
  },
  {
   "cell_type": "code",
   "execution_count": 16,
   "id": "d0dab038-01e9-4011-86db-d599ce61ebae",
   "metadata": {},
   "outputs": [],
   "source": [
    "# with open('model_01.pkl','wb') as f:\n",
    "#     pickle.dump(model, f)\n",
    "# print('model saved')"
   ]
  },
  {
   "cell_type": "markdown",
   "id": "d43ad3b3-f67a-4f8f-887c-210b607fbbc8",
   "metadata": {},
   "source": [
    "# Testing the model\n",
    "\n",
    "On Entering the prompt, the model generates a maximum of 100 characters. Exits on prompting \"exit\"."
   ]
  },
  {
   "cell_type": "code",
   "execution_count": 21,
   "id": "4ae605fd-bc63-4d69-92a5-61891965f699",
   "metadata": {
    "scrolled": true
   },
   "outputs": [
    {
     "name": "stdin",
     "output_type": "stream",
     "text": [
      "Prompt:\n",
      " hello\n"
     ]
    },
    {
     "name": "stdout",
     "output_type": "stream",
     "text": [
      "Completion:\n",
      "hellooept3e(Nsepak\u0000’    cu\u0000syom uetspg\u0000Da2p n  oto\u0000a  3f o4i tat eaist wsdG  e nna s ,t aaipnR\n",
      "rs emyaegy\n"
     ]
    },
    {
     "name": "stdin",
     "output_type": "stream",
     "text": [
      "Prompt:\n",
      " okay\n"
     ]
    },
    {
     "name": "stdout",
     "output_type": "stream",
     "text": [
      "Completion:\n",
      "okayir\u0000se\u0000olr\u0000noieehaoarroo thy  ih aN n \u0000  arsm rent79sc\u0000 \u0000oeifaoybiaok ideet  gmipnt n0 ,wciaoolklreat\n"
     ]
    },
    {
     "name": "stdin",
     "output_type": "stream",
     "text": [
      "Prompt:\n",
      " exit\n"
     ]
    }
   ],
   "source": [
    "while True:\n",
    "    prompt = input(\"Prompt:\\n\")\n",
    "    if prompt == 'exit':\n",
    "        break\n",
    "    context = torch.tensor(enc(prompt), dtype=torch.long, device=device)\n",
    "    generated_chars = dec(m.generate(context.unsqueeze(0), maxNewTokens=100)[0].tolist())\n",
    "    print(f'Completion:\\n{generated_chars}')"
   ]
  },
  {
   "cell_type": "code",
   "execution_count": null,
   "id": "126c8370",
   "metadata": {},
   "outputs": [],
   "source": []
  }
 ],
 "metadata": {
  "kernelspec": {
   "display_name": "LLM-GPT",
   "language": "python",
   "name": "llm"
  },
  "language_info": {
   "codemirror_mode": {
    "name": "ipython",
    "version": 3
   },
   "file_extension": ".py",
   "mimetype": "text/x-python",
   "name": "python",
   "nbconvert_exporter": "python",
   "pygments_lexer": "ipython3",
   "version": "3.10.12"
  }
 },
 "nbformat": 4,
 "nbformat_minor": 5
}
